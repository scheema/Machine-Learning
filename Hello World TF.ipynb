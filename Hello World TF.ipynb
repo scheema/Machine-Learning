{
    "nbformat": 4, 
    "cells": [
        {
            "source": "### Author: Srnivas Cheemalapati", 
            "cell_type": "markdown", 
            "metadata": {}
        }, 
        {
            "source": "This is your first tensor flow notebook\nYou can press shift + enter to quickly advance through each line of a notebook. Try it now!", 
            "cell_type": "markdown", 
            "metadata": {}
        }, 
        {
            "source": "### This snippet of Python prints a value in the variable.", 
            "cell_type": "markdown", 
            "metadata": {}
        }, 
        {
            "execution_count": null, 
            "source": "# We are going to us Tensor Flow libraries, so import them\nimport tensorflow as tf\n\n# create a variable \ngreeting = tf.constant('Hello, World!')\n\n# Tensor Flow requires a run time session created for deployment\nsess = tf.Session()\n\n# Print the result to check everything is working\nprint(sess.run(greeting))", 
            "cell_type": "code", 
            "metadata": {
                "collapsed": false
            }, 
            "outputs": []
        }, 
        {
            "source": "### If you see \"Hello, World!\", you have successfully run your first Tensor Flow program on IBM Data Science Experience.", 
            "cell_type": "markdown", 
            "metadata": {}
        }, 
        {
            "source": "<p>Next to [1_linear_regression_model.ipynb](1_linear_regression_model.ipynb).</p>", 
            "cell_type": "markdown", 
            "metadata": {}
        }, 
        {
            "execution_count": null, 
            "source": "", 
            "cell_type": "code", 
            "metadata": {
                "collapsed": true
            }, 
            "outputs": []
        }
    ], 
    "metadata": {
        "language_info": {
            "pygments_lexer": "ipython2", 
            "version": "2.7.11", 
            "codemirror_mode": {
                "version": 2, 
                "name": "ipython"
            }, 
            "mimetype": "text/x-python", 
            "name": "python", 
            "file_extension": ".py", 
            "nbconvert_exporter": "python"
        }, 
        "kernelspec": {
            "language": "python", 
            "display_name": "Python 2 with Spark 1.6", 
            "name": "python2"
        }
    }, 
    "nbformat_minor": 0
}